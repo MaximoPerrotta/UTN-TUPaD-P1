{
 "cells": [
  {
   "cell_type": "markdown",
   "metadata": {},
   "source": [
    "![image.png](data:image/png;base64,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)\n",
    "\n",
    "\n",
    "\n",
    "<h2>\n",
    "<font color=\"#ffcc01\">\n",
    "<b>\n",
    "PROGRAMACIÓN 1\n",
    "</b>\n",
    "</font>\n",
    "</h2>\n",
    "\n",
    "\n",
    "<h3>\n",
    "<font color=\"#ffcc01\">\n",
    "<b>\n",
    "Trabajo práctico 3: Estructuras Condicionales  \n",
    "</b>\n",
    "</font>\n",
    "</h3>\n"
   ]
  },
  {
   "cell_type": "markdown",
   "metadata": {},
   "source": [
    "#### **Ejercicio 1**\n",
    "\n",
    "Escribir un programa que solicite la edad del usuario. Si el usuario es mayor de 18 años,\n",
    "deberá mostrar un mensaje en pantalla que diga “Es mayor de edad”\n"
   ]
  },
  {
   "cell_type": "code",
   "execution_count": 1,
   "metadata": {},
   "outputs": [
    {
     "name": "stdout",
     "output_type": "stream",
     "text": [
      "Es mayor de edad.\n"
     ]
    }
   ],
   "source": [
    "#Le pedimos el input(la edad) al usuario.\n",
    "edadUsuario =  int(input(\"Ingrese su edad:\"))\n",
    "#Declaramos la variable de la edad legal.\n",
    "edadLegal = 18\n",
    "#Aplicamos la estructura secuencial.\n",
    "if edadUsuario >= edadLegal: \n",
    "    print (\"Es mayor de edad.\")\n",
    "else: print (\"No es mayor de edad.\")"
   ]
  },
  {
   "cell_type": "markdown",
   "metadata": {},
   "source": [
    "#### **Ejercicio 2**\n",
    "\n",
    "Escribir un programa que solicite su nota al usuario. Si la nota es mayor o igual a 6, deberá\n",
    "mostrar por pantalla un mensaje que diga “Aprobado”; en caso contrario deberá mostrar el\n",
    "mensaje “Desaprobado”."
   ]
  },
  {
   "cell_type": "code",
   "execution_count": 2,
   "metadata": {},
   "outputs": [
    {
     "name": "stdout",
     "output_type": "stream",
     "text": [
      "Aprobado.\n"
     ]
    }
   ],
   "source": [
    "#Pedimos nota a uuario\n",
    "notaUsuario =  int(input(\"Ingrese su nota:\"))\n",
    "#Deeclaramos la nota de aprobacion\n",
    "notaAprobada = 6\n",
    "#Aplicamos la estructura secuencial.\n",
    "if notaUsuario >= notaAprobada: \n",
    "    print (\"Aprobado.\")\n",
    "else: print (\"No aprobado.\")"
   ]
  },
  {
   "cell_type": "markdown",
   "metadata": {},
   "source": [
    "#### **Ejercicio 3**\n",
    "\n",
    "Escribir un programa que permita ingresar solo números pares. Si el usuario ingresa un\n",
    "número par, imprimir por en pantalla el mensaje \"Ha ingresado un número par\"; en caso\n",
    "contrario, imprimir por pantalla \"Por favor, ingrese un número par\". Nota: investigar el uso del\n",
    "operador de módulo (%) en Python para evaluar si un número es par o impar."
   ]
  },
  {
   "cell_type": "code",
   "execution_count": 3,
   "metadata": {},
   "outputs": [
    {
     "name": "stdout",
     "output_type": "stream",
     "text": [
      "Por favor ingrese un numero par.\n"
     ]
    }
   ],
   "source": [
    "#Importamos libreria math\n",
    "import math\n",
    "#Pedimos un numero al ussuario\n",
    "numUsuario =  int(input(\"Ingrese um numero:\"))\n",
    "#Verificamos si es par\n",
    "if numUsuario % 2 == 0:\n",
    "    print (\"Ha ingresado un numero par.\")\n",
    "else: print (\"Por favor ingrese un numero par.\")"
   ]
  },
  {
   "cell_type": "markdown",
   "metadata": {},
   "source": [
    "#### **Ejercicio 4**\n",
    "\n",
    "Escribir un programa que solicite al usuario su edad e imprima por pantalla a cuál de las\n",
    "siguientes categorías pertenece:\n",
    "##### ● Niño/a: menor de 12 años.\n",
    "##### ● Adolescente: mayor o igual que 12 años y menor que 18 años.\n",
    "##### ● Adulto/a joven: mayor o igual que 18 años y menor que 30 años.\n",
    "##### ● Adulto/a: mayor o igual que 30 años"
   ]
  },
  {
   "cell_type": "code",
   "execution_count": 1,
   "metadata": {},
   "outputs": [
    {
     "name": "stdout",
     "output_type": "stream",
     "text": [
      "Es un adolecente\n"
     ]
    }
   ],
   "source": [
    "#Solicitamos edad\n",
    "edadUsuario = int(input(\"Ingrese su edad:\"))\n",
    "#Creamos estructura condicional yendo de menor a mayor para no generar inconvenientes\n",
    "if edadUsuario < 12:\n",
    "    print(\"Es un niño\")\n",
    "else:\n",
    "    if edadUsuario >= 12 and edadUsuario <= 18:\n",
    "        print (\"Es un adolecente\")\n",
    "    else:\n",
    "        if edadUsuario > 18 and edadUsuario <= 30:\n",
    "            print (\"Es un adulto\")\n",
    "        else: \n",
    "            print (\"Es un adulto mayor\")\n"
   ]
  },
  {
   "cell_type": "markdown",
   "metadata": {},
   "source": [
    "#### **Ejercicio 5**\n",
    "\n",
    "Escribir un programa que permita introducir contraseñas de entre 8 y 14 caracteres \n",
    "(incluyendo 8 y 14). Si el usuario ingresa una contraseña de longitud adecuada, imprimir por en \n",
    "pantalla el mensaje \"Ha ingresado una contraseña correcta\"; en caso contrario, imprimir por \n",
    "pantalla \"Por favor, ingrese una contraseña de entre 8 y 14 caracteres\". Nota: investigue el uso \n",
    "de la función len() en Python para evaluar la cantidad de elementos que tiene un iterable tal \n",
    "como una lista o un string. "
   ]
  },
  {
   "cell_type": "code",
   "execution_count": 2,
   "metadata": {},
   "outputs": [
    {
     "name": "stdout",
     "output_type": "stream",
     "text": [
      "Por favor, ingrese una contraseña de entre 8 y 14 caracteres\n"
     ]
    }
   ],
   "source": [
    "contraUsuario = str(input(\"Ingrese una contraseña de entre 8 y 14 caracteres:\"))\n",
    "\n",
    "if len(contraUsuario) >= 8 and len(contraUsuario) <= 14:\n",
    "    print(\"Ha ingresado una contraseña correcta\")\n",
    "else:\n",
    "    print(\"Por favor, ingrese una contraseña de entre 8 y 14 caracteres\")\n"
   ]
  },
  {
   "cell_type": "markdown",
   "metadata": {},
   "source": [
    "#### **Ejercicio 6**\n",
    "\n",
    "Escribir un programa que tome la lista numeros_aleatorios, calcule su moda, su mediana y su media y las compare para determinar si hay sesgo positivo, negativo o no hay sesgo."
   ]
  },
  {
   "cell_type": "code",
   "execution_count": 3,
   "metadata": {},
   "outputs": [
    {
     "name": "stdout",
     "output_type": "stream",
     "text": [
      "[42, 37, 77, 25, 66, 2, 57, 32, 73, 10, 26, 95, 58, 86, 66, 42, 6, 81, 96, 56, 42, 24, 36, 50, 86, 51, 54, 91, 29, 98, 10, 94, 33, 59, 10, 78, 50, 82, 92, 77, 67, 39, 3, 21, 34, 80, 23, 70, 40, 87]\n",
      "El sesgo es positivo.\n"
     ]
    }
   ],
   "source": [
    "#Importamos librerias o lo que usamos de ellas.\n",
    "from statistics import mode, median, mean \n",
    "import random \n",
    "#Usamos el codigo proporcionado para crear la lista aleatoria.\n",
    "numeros_aleatorios = [random.randint(1, 100) for i in range(50)]\n",
    "#Imprimimos la lista en pantalla\n",
    "print(numeros_aleatorios)\n",
    "#Definimos las variables.\n",
    "moda = mode(numeros_aleatorios)\n",
    "mediana = median(numeros_aleatorios)\n",
    "media = mean(numeros_aleatorios)\n",
    "#Creamos la estructura condicional.\n",
    "if media > mediana and mediana > moda:\n",
    "    print(\"El sesgo es positivo.\")\n",
    "elif media < mediana and mediana < moda:\n",
    "    print(\"El sesgo es negativo.\")\n",
    "elif media == mediana and mediana == moda:\n",
    "    print(\"No hay sesgo.\")\n",
    "else:\n",
    "    print(\"No se puede determinar un sesgo claro\")"
   ]
  },
  {
   "cell_type": "markdown",
   "metadata": {},
   "source": [
    "#### **Ejercicio 7**\n",
    "\n",
    "Escribir un programa que solicite una frase o palabra al usuario. Si el string ingresado termina con vocal, añadir un signo de exclamación al final e imprimir el string resultante por pantalla;en caso contrario, dejar el string tal cual lo ingresó el usuario e imprimirlo por pantalla."
   ]
  },
  {
   "cell_type": "code",
   "execution_count": 1,
   "metadata": {},
   "outputs": [
    {
     "name": "stdout",
     "output_type": "stream",
     "text": [
      "Como va!\n"
     ]
    }
   ],
   "source": [
    "#Solicitamos frasse\n",
    "fraseSolicitada= str(input(\"Ingrese una frase o palabra:\"))\n",
    "#Usamos el indice -1 que apunta al ultimo caracter(Investigacion propia)\n",
    "ultimaLetra= fraseSolicitada[-1]\n",
    "#Creamos el condicional\n",
    "if ultimaLetra in \"aeiouAEIOU\":\n",
    "    fraseSolicitada = fraseSolicitada + \"!\"\n",
    "#Imprimimos el resultado\n",
    "print(fraseSolicitada)"
   ]
  },
  {
   "cell_type": "markdown",
   "metadata": {},
   "source": [
    "#### **Ejercicio 8**\n",
    "\n",
    "Escribir un programa que solicite al usuario que ingrese su nombre y el número 1, 2 o 3 \n",
    "dependiendo de la opción que desee: \n",
    "1. Si quiere su nombre en mayúsculas. Por ejemplo: PEDRO. \n",
    "2. Si quiere su nombre en minúsculas. Por ejemplo: pedro. \n",
    "3. Si quiere su nombre con la primera letra mayúscula. Por ejemplo: Pedro. \n",
    "\n",
    "El programa debe transformar el nombre ingresado de acuerdo a la opción seleccionada por el \n",
    "usuario e imprimir el resultado por pantalla. Nota: investigue uso de las funciones upper(), \n",
    "lower() y title() de Python para convertir entre mayúsculas y minúsculas."
   ]
  },
  {
   "cell_type": "code",
   "execution_count": 2,
   "metadata": {},
   "outputs": [
    {
     "name": "stdout",
     "output_type": "stream",
     "text": [
      "[1] Si quiere su nombre en mayúsculas. Por ejemplo: PEDRO. \n",
      "[2] Si quiere su nombre en minúsculas. Por ejemplo: pedro. \n",
      "[3] Si quiere su nombre con la primera letra mayúscula. Por ejemplo: Pedro\n",
      "Maximo\n"
     ]
    }
   ],
   "source": [
    "#Solicitamos nombre.\n",
    "nombreUsuario= (input(\"Ingrese su nombre:\"))\n",
    "#Mostramos en pantalla las opciones de acuerdo al numero.\n",
    "print(\"[1] Si quiere su nombre en mayúsculas. Por ejemplo: PEDRO. \\n[2] Si quiere su nombre en minúsculas. Por ejemplo: pedro. \\n[3] Si quiere su nombre con la primera letra mayúscula. Por ejemplo: Pedro\")\n",
    "#Solicitamos numero.\n",
    "numeroAccion= int(input(\"Ingrese un numero de acuerdo a la opcion correcta:\"))\n",
    "#Creamos condicional\n",
    "if numeroAccion == 1:\n",
    "    print(nombreUsuario.upper())\n",
    "elif numeroAccion == 2: \n",
    "    print(nombreUsuario.lower())\n",
    "elif numeroAccion == 3:\n",
    "    print(nombreUsuario.title()) \n",
    "else:\n",
    "    print(\"Opcion invalida.\")"
   ]
  },
  {
   "cell_type": "markdown",
   "metadata": {},
   "source": [
    "#### **Ejercicio 9**\n",
    "\n",
    "Escribir un programa que pida al usuario la magnitud de un terremoto, clasifique la \n",
    "magnitud en una de las siguientes categorías según la escala de Richter e imprima el resultado \n",
    "por pantalla: \n",
    "\n",
    "● Menor que 3: \"Muy leve\" (imperceptible). \n",
    "\n",
    "● Mayor o igual que 3  y menor que 4: \"Leve\" (ligeramente perceptible). \n",
    "\n",
    "● Mayor o igual que 4  y menor que 5: \"Moderado\" (sentido por personas, pero \n",
    "generalmente no causa daños). \n",
    "\n",
    "● Mayor o igual que 5  y menor que 6: \"Fuerte\" (puede causar daños en estructuras \n",
    "débiles). \n",
    "\n",
    "● Mayor o igual que 6  y menor que 7: \"Muy Fuerte\" (puede causar daños significativos). \n",
    "\n",
    "● Mayor o igual que 7: \"Extremo\" (puede causar graves daños a gran escala)."
   ]
  },
  {
   "cell_type": "code",
   "execution_count": 3,
   "metadata": {},
   "outputs": [
    {
     "name": "stdout",
     "output_type": "stream",
     "text": [
      "Fuerte (puede causar daños en estructuras débiles).\n"
     ]
    }
   ],
   "source": [
    "nivelTerremoto = float(input(\"Ingrese la magnitud del terremoto: \"))\n",
    "\n",
    "if nivelTerremoto < 3:\n",
    "    print(\"Muy leve (imperceptible).\")\n",
    "elif nivelTerremoto >= 3 and nivelTerremoto < 4:\n",
    "    print(\"Leve (ligeramente perceptible).\")\n",
    "elif nivelTerremoto >= 4 and nivelTerremoto < 5:\n",
    "    print(\"Moderado (sentido por personas, pero generalmente no causa daños).\")\n",
    "elif nivelTerremoto >= 5 and nivelTerremoto < 6:\n",
    "    print(\"Fuerte (puede causar daños en estructuras débiles).\")\n",
    "elif nivelTerremoto >= 6 and nivelTerremoto < 7:\n",
    "    print(\"Muy fuerte (puede causar daños significativos).\")\n",
    "else:\n",
    "    print(\"Extremo (puede causar graves daños a gran escala).\")"
   ]
  },
  {
   "cell_type": "markdown",
   "metadata": {},
   "source": [
    "####  **Ejercicio 10**\n",
    "\n",
    "Usando la info aportada:\n",
    "Escribir un programa que pregunte al usuario en cuál hemisferio se encuentra (N/S), qué mes del año es y qué día es. El programa deberá utilizar esa información para imprimir por pantalla si el usuario se encuentra en otoño, invierno, primavera o verano."
   ]
  },
  {
   "cell_type": "code",
   "execution_count": 1,
   "metadata": {},
   "outputs": [
    {
     "name": "stdout",
     "output_type": "stream",
     "text": [
      "Otoño\n"
     ]
    }
   ],
   "source": [
    "#Solicito info al usuario\n",
    "hemisferioUsuario = input(\"¿En qué hemisferio se encuentra? (Norte/Sur): \").lower()\n",
    "dia = int(input(\"Día del mes: \"))\n",
    "mes = int(input(\"Número del mes (1 al 12): \"))\n",
    "#Creo estructura condicional\n",
    "if hemisferioUsuario == \"norte\":\n",
    "    if (mes == 12 and dia >= 21) or mes in [1, 2] or (mes == 3 and dia < 21):\n",
    "        print(\"Invierno\")\n",
    "    elif (mes == 3 and dia >= 21) or mes in [4, 5] or (mes == 6 and dia < 21):\n",
    "        print(\"Primavera\")\n",
    "    elif (mes == 6 and dia >= 21) or mes in [7, 8] or (mes == 9 and dia < 21):\n",
    "        print(\"Verano\")\n",
    "    elif (mes == 9 and dia >= 21) or mes in [10, 11] or (mes == 12 and dia < 21):\n",
    "        print(\"Otoño\")\n",
    "elif hemisferioUsuario == \"sur\":\n",
    "    if (mes == 12 and dia >= 21) or mes in [1, 2] or (mes == 3 and dia < 21):\n",
    "        print(\"Verano\")\n",
    "    elif (mes == 3 and dia >= 21) or mes in [4, 5] or (mes == 6 and dia < 21):\n",
    "        print(\"Otoño\")\n",
    "    elif (mes == 6 and dia >= 21) or mes in [7, 8] or (mes == 9 and dia < 21):\n",
    "        print(\"Invierno\")\n",
    "    elif (mes == 9 and dia >= 21) or mes in [10, 11] or (mes == 12 and dia < 21):\n",
    "        print(\"Primavera\")\n",
    "else:\n",
    "    print(\"Informacion incorrecta\")"
   ]
  }
 ],
 "metadata": {
  "kernelspec": {
   "display_name": "Python 3",
   "language": "python",
   "name": "python3"
  },
  "language_info": {
   "codemirror_mode": {
    "name": "ipython",
    "version": 3
   },
   "file_extension": ".py",
   "mimetype": "text/x-python",
   "name": "python",
   "nbconvert_exporter": "python",
   "pygments_lexer": "ipython3",
   "version": "3.13.2"
  }
 },
 "nbformat": 4,
 "nbformat_minor": 2
}
